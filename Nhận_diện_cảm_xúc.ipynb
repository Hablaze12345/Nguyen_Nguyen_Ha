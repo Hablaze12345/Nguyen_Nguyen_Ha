{
  "cells": [
    {
      "cell_type": "code",
      "execution_count": null,
      "metadata": {
        "colab": {
          "base_uri": "https://localhost:8080/"
        },
        "id": "825DJpddjFlE",
        "outputId": "470c8b28-2598-4ea9-cbbd-49879218820d"
      },
      "outputs": [
        {
          "name": "stdout",
          "output_type": "stream",
          "text": [
            "Mounted at /content/gdrive\n"
          ]
        }
      ],
      "source": [
        "from google.colab import drive\n",
        "drive.mount('/content/gdrive')"
      ]
    },
    {
      "cell_type": "code",
      "execution_count": null,
      "metadata": {
        "colab": {
          "base_uri": "https://localhost:8080/"
        },
        "id": "JCFwKDW4isPv",
        "outputId": "71d0d01e-4a1d-4c15-fef2-fa598e6f7a8e"
      },
      "outputs": [
        {
          "name": "stdout",
          "output_type": "stream",
          "text": [
            "/content/gdrive/MyDrive/EmotionalDamage\n"
          ]
        }
      ],
      "source": [
        "%cd /content/gdrive/MyDrive/EmotionalDamage"
      ]
    },
    {
      "cell_type": "code",
      "execution_count": null,
      "metadata": {
        "id": "LBX88S7m9DiI"
      },
      "outputs": [],
      "source": [
        "import sys, os  \n",
        "import pandas as pd  \n",
        "import numpy as np  \n",
        "\n",
        "from keras.models import Sequential  \n",
        "from keras.layers import Dense, Dropout, Activation, Flatten  \n",
        "from keras.layers import Conv2D, MaxPooling2D, BatchNormalization,AveragePooling2D  \n",
        "from keras.losses import categorical_crossentropy  \n",
        "from keras.optimizers import Adam  \n",
        "from keras.regularizers import l2  \n",
        "from keras.utils import np_utils \n"
      ]
    },
    {
      "cell_type": "code",
      "execution_count": null,
      "metadata": {
        "id": "RTeESFE99EBP"
      },
      "outputs": [],
      "source": [
        "df=pd.read_csv('/content/gdrive/MyDrive/EmotionalDamage/fer2013.csv')  \n",
        "X_train,train_y,X_test,test_y=[],[],[],[]  \n",
        "for index, row in df.iterrows():  \n",
        "    val=row['pixels'].split(\" \")  \n",
        "    try:  \n",
        "        if 'Training' in row['Usage']:  \n",
        "           X_train.append(np.array(val,'float32'))  \n",
        "           train_y.append(row['emotion'])  \n",
        "        elif 'PublicTest' in row['Usage']:  \n",
        "           X_test.append(np.array(val,'float32'))  \n",
        "           test_y.append(row['emotion'])  \n",
        "    except:  \n",
        "        print(f\"error occured at index :{index} and row:{row}\") \n"
      ]
    },
    {
      "cell_type": "code",
      "execution_count": null,
      "metadata": {
        "id": "rGtlKGx_9KUF"
      },
      "outputs": [],
      "source": [
        "num_features = 64  \n",
        "num_labels = 7  \n",
        "batch_size = 64  \n",
        "epochs = 30  \n",
        "width, height = 48, 48  \n",
        "\n",
        "X_train = np.array(X_train,'float32')  \n",
        "train_y = np.array(train_y,'float32')  \n",
        "X_test = np.array(X_test,'float32')  \n",
        "test_y = np.array(test_y,'float32')  \n",
        "\n",
        "train_y=np_utils.to_categorical(train_y, num_classes=num_labels)   \n",
        "test_y=np_utils.to_categorical(test_y, num_classes=num_labels)  \n",
        "\n",
        "X_train -= np.mean(X_train, axis=0) #normalize dữ liệu giữa 0 và 1 \n",
        "X_train /= np.std(X_train, axis=0)  \n",
        "\n",
        "X_test -= np.mean(X_test, axis=0)  \n",
        "X_test /= np.std(X_test, axis=0)  \n",
        "\n",
        "X_train = X_train.reshape(X_train.shape[0], 48, 48, 1)  \n",
        "\n",
        "X_test = X_test.reshape(X_test.shape[0], 48, 48, 1)  \n",
        "\n"
      ]
    },
    {
      "cell_type": "code",
      "execution_count": null,
      "metadata": {
        "id": "AvF9Y9GR9MPG"
      },
      "outputs": [],
      "source": [
        "model = Sequential()  \n",
        "\n",
        "model.add(Conv2D(64, kernel_size=(3, 3), activation='relu', input_shape=(X_train.shape[1:])))  \n",
        "model.add(Conv2D(64,kernel_size= (3, 3), activation='relu'))  \n",
        "# model.add(BatchNormalization())  \n",
        "model.add(MaxPooling2D(pool_size=(2,2), strides=(2, 2)))  \n",
        "model.add(Dropout(0.5))  \n",
        "\n",
        "#2nd convolution layer  \n",
        "model.add(Conv2D(64, (3, 3), activation='relu'))  \n",
        "model.add(Conv2D(64, (3, 3), activation='relu'))  \n",
        "# model.add(BatchNormalization())  \n",
        "model.add(MaxPooling2D(pool_size=(2,2), strides=(2, 2)))  \n",
        "model.add(Dropout(0.5))  \n",
        "\n",
        "#3rd convolution layer  \n",
        "model.add(Conv2D(128, (3, 3), activation='relu'))  \n",
        "model.add(Conv2D(128, (3, 3), activation='relu'))  \n",
        "# model.add(BatchNormalization())  \n",
        "model.add(MaxPooling2D(pool_size=(2,2), strides=(2, 2)))  \n",
        "\n",
        "model.add(Flatten())  \n",
        "\n",
        "#fully connected neural networks  \n",
        "model.add(Dense(1024, activation='relu'))  \n",
        "model.add(Dropout(0.2))  \n",
        "model.add(Dense(1024, activation='relu'))  \n",
        "model.add(Dropout(0.2))  \n",
        "\n",
        "model.add(Dense(num_labels, activation='softmax'))  \n",
        "\n",
        "# model.summary()  \n",
        "\n",
        "#Compliling the model  \n",
        "model.compile(loss=categorical_crossentropy,  \n",
        "              optimizer=Adam(),  \n",
        "              metrics=['accuracy']) \n"
      ]
    },
    {
      "cell_type": "code",
      "execution_count": null,
      "metadata": {
        "colab": {
          "base_uri": "https://localhost:8080/"
        },
        "id": "0AHOM0n09Oa7",
        "outputId": "892b1006-97fa-4dfa-c0fb-0369aa4d8c25"
      },
      "outputs": [
        {
          "data": {
            "text/plain": [
              "<bound method Model.summary of <keras.engine.sequential.Sequential object at 0x7f2431f23730>>"
            ]
          },
          "execution_count": 8,
          "metadata": {},
          "output_type": "execute_result"
        }
      ],
      "source": [
        "model.summary\n"
      ]
    },
    {
      "cell_type": "code",
      "execution_count": null,
      "metadata": {
        "colab": {
          "background_save": true,
          "base_uri": "https://localhost:8080/"
        },
        "id": "pDe5v8v99QHD",
        "outputId": "3a8b8e26-a2cb-4d5d-ace8-6c0cdc049034"
      },
      "outputs": [
        {
          "name": "stdout",
          "output_type": "stream",
          "text": [
            "Epoch 1/30\n",
            "449/449 [==============================] - 664s 1s/step - loss: 1.7260 - accuracy: 0.2924 - val_loss: 1.5289 - val_accuracy: 0.3965\n",
            "Epoch 2/30\n",
            "449/449 [==============================] - 668s 1s/step - loss: 1.4927 - accuracy: 0.4139 - val_loss: 1.3856 - val_accuracy: 0.4642\n",
            "Epoch 3/30\n",
            "449/449 [==============================] - 644s 1s/step - loss: 1.3890 - accuracy: 0.4617 - val_loss: 1.3195 - val_accuracy: 0.4976\n",
            "Epoch 4/30\n",
            "449/449 [==============================] - 638s 1s/step - loss: 1.3201 - accuracy: 0.4937 - val_loss: 1.2487 - val_accuracy: 0.5269\n",
            "Epoch 5/30\n",
            "449/449 [==============================] - 634s 1s/step - loss: 1.2787 - accuracy: 0.5094 - val_loss: 1.2610 - val_accuracy: 0.5196\n",
            "Epoch 6/30\n",
            "449/449 [==============================] - 630s 1s/step - loss: 1.2462 - accuracy: 0.5243 - val_loss: 1.2210 - val_accuracy: 0.5313\n",
            "Epoch 7/30\n",
            "449/449 [==============================] - 629s 1s/step - loss: 1.2154 - accuracy: 0.5350 - val_loss: 1.1913 - val_accuracy: 0.5456\n",
            "Epoch 8/30\n",
            "449/449 [==============================] - 629s 1s/step - loss: 1.1894 - accuracy: 0.5438 - val_loss: 1.1722 - val_accuracy: 0.5567\n",
            "Epoch 9/30\n",
            "193/449 [===========>..................] - ETA: 5:47 - loss: 1.1535 - accuracy: 0.5561"
          ]
        }
      ],
      "source": [
        "#Training the model  \n",
        "model.fit(X_train, train_y,  \n",
        "          batch_size=batch_size,  \n",
        "          epochs=epochs,  \n",
        "          verbose=1,  \n",
        "          validation_data=(X_test, test_y),  \n",
        "          shuffle=True)  \n"
      ]
    },
    {
      "cell_type": "code",
      "execution_count": null,
      "metadata": {
        "id": "9leSrapB9ToA"
      },
      "outputs": [],
      "source": [
        "#Saving the  model \n",
        "fer_json = model.to_json()  \n",
        "with open(\"fer.json\", \"w\") as json_file:  \n",
        "    json_file.write(path_to/fer_json)  \n",
        "model.save_weights(\"/content/gdrive/MyDrive/EmotionalDamage/fer.h5\")  \n"
      ]
    }
  ],
  "metadata": {
    "colab": {
      "provenance": []
    },
    "kernelspec": {
      "display_name": "Python 3",
      "name": "python3"
    },
    "language_info": {
      "name": "python"
    }
  },
  "nbformat": 4,
  "nbformat_minor": 0
}